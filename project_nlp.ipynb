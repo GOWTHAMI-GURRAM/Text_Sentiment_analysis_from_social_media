{
 "cells": [
  {
   "cell_type": "code",
   "execution_count": 1,
   "id": "c1eedb20",
   "metadata": {},
   "outputs": [
    {
     "name": "stderr",
     "output_type": "stream",
     "text": [
      "[nltk_data] Downloading package vader_lexicon to\n",
      "[nltk_data]     C:\\Users\\Dell\\AppData\\Roaming\\nltk_data...\n",
      "[nltk_data]   Package vader_lexicon is already up-to-date!\n"
     ]
    }
   ],
   "source": [
    "import tkinter as tk\n",
    "from tkinter import messagebox\n",
    "from nltk.sentiment.vader import SentimentIntensityAnalyzer\n",
    "import nltk\n",
    "import re\n",
    "\n",
    "# Download VADER lexicon\n",
    "nltk.download('vader_lexicon')\n",
    "\n",
    "# Initialize VADER analyzer\n",
    "vader_analyzer = SentimentIntensityAnalyzer()\n",
    "\n",
    "# Normalize score to compound (same as VADER)\n",
    "def normalize_score(score):\n",
    "    return score / ((score ** 2 + 15) ** 0.5)\n",
    "\n",
    "# Manual VADER-style analyzer with word-by-word valence\n",
    "def vader_like_manual_analyzer(text):\n",
    "    text = text.lower()\n",
    "    words = re.findall(r'\\w+', text)\n",
    "    lexicon = vader_analyzer.lexicon\n",
    "\n",
    "    valence_scores = []\n",
    "    for word in words:\n",
    "        score = lexicon.get(word, 0.0)  # Get valence score from VADER lexicon\n",
    "        valence_scores.append(score)\n",
    "\n",
    "    total = sum(valence_scores)\n",
    "    compound = normalize_score(total)\n",
    "\n",
    "    if compound >= 0.05:\n",
    "        sentiment = \"Positive 😊\"\n",
    "        color = \"green\"\n",
    "    elif compound <= -0.05:\n",
    "        sentiment = \"Negative 😠\"\n",
    "        color = \"red\"\n",
    "    else:\n",
    "        sentiment = \"Neutral 😐\"\n",
    "        color = \"blue\"\n",
    "\n",
    "    result = (\n",
    "        f\"[VADER Lexicon-Based Analysis]\\n\"\n",
    "        f\"Words: {words}\\n\"\n",
    "        f\"Valence Scores: {valence_scores}\\n\"\n",
    "        f\"Total Score: {round(total, 2)}\\n\"\n",
    "        f\"Compound Score: {round(compound, 3)}\\n\"\n",
    "        f\"Final Sentiment: {sentiment}\"\n",
    "    )\n",
    "    return result, color  # ✅ return both result and color\n",
    "\n",
    "# Function called on button click\n",
    "def analyze_sentiment():\n",
    "    text = entry.get(\"1.0\", tk.END).strip()\n",
    "    if not text:\n",
    "        messagebox.showwarning(\"Input Error\", \"Please enter some text.\")\n",
    "        return\n",
    "\n",
    "    result, color = vader_like_manual_analyzer(text)  # ✅ unpack both values\n",
    "    result_label.config(text=result, fg=color)\n",
    "\n",
    "# GUI setup\n",
    "app = tk.Tk()\n",
    "app.title(\"VADER Lexicon Sentiment Analyzer\")\n",
    "app.geometry(\"700x500\")\n",
    "app.config(bg=\"white\")\n",
    "\n",
    "tk.Label(app, text=\"Enter text to analyze:\", bg=\"white\", font=(\"Arial\", 12)).pack(pady=10)\n",
    "entry = tk.Text(app, height=5, width=80, font=(\"Arial\", 12))\n",
    "entry.pack()\n",
    "\n",
    "tk.Button(app, text=\"Analyze\", command=analyze_sentiment, font=(\"Arial\", 12), bg=\"lightblue\").pack(pady=10)\n",
    "result_label = tk.Label(app, text=\"\", font=(\"Courier\", 11), bg=\"white\", justify=\"left\", anchor=\"w\")\n",
    "result_label.pack(padx=10, pady=10, fill=\"both\")\n",
    "\n",
    "app.mainloop()\n",
    "\n",
    "#input:\n",
    "#I am not happy with the service, but the food was very good!\n",
    "# The customer service was amazing , and i had a great experience.\n",
    "#This is the worst product i have ever used. completely disappointed.\n",
    "# i went to the store and bought some groceries.\n",
    "#Feeling so blessed and happy today 💫✨\n",
    "#Worst day ever. Nothing went right. 😩\n",
    "#Posted a new video. Link in bio.\n",
    "\n"
   ]
  },
  {
   "cell_type": "code",
   "execution_count": null,
   "id": "59fce97c",
   "metadata": {},
   "outputs": [],
   "source": [
    "\n"
   ]
  }
 ],
 "metadata": {
  "kernelspec": {
   "display_name": "base",
   "language": "python",
   "name": "python3"
  },
  "language_info": {
   "codemirror_mode": {
    "name": "ipython",
    "version": 3
   },
   "file_extension": ".py",
   "mimetype": "text/x-python",
   "name": "python",
   "nbconvert_exporter": "python",
   "pygments_lexer": "ipython3",
   "version": "3.12.7"
  }
 },
 "nbformat": 4,
 "nbformat_minor": 5
}
